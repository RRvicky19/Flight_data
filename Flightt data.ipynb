{
 "cells": [
  {
   "cell_type": "code",
   "execution_count": 81,
   "id": "6491b82e",
   "metadata": {},
   "outputs": [],
   "source": [
    "import pandas as pd\n",
    "import matplotlib.pyplot as plt\n",
    "from sklearn.model_selection import train_test_split\n",
    "from sklearn.ensemble import RandomForestRegressor\n",
    "from sklearn.ensemble import GradientBoostingClassifier\n",
    "from sklearn.preprocessing import MinMaxScaler\n",
    "from sklearn.linear_model import LinearRegression\n",
    "from sklearn.tree import DecisionTreeRegressor\n",
    "from sklearn.ensemble import AdaBoostRegressor\n",
    "from sklearn.ensemble import GradientBoostingRegressor\n",
    "from sklearn.tree import DecisionTreeClassifier"
   ]
  },
  {
   "cell_type": "code",
   "execution_count": 82,
   "id": "9f99c21c",
   "metadata": {},
   "outputs": [],
   "source": [
    "data = pd.read_csv(\"https://docs.google.com/spreadsheets/d/18mzp6f9xZm0J4rfoAuJ_Xu-gzVDjjkc1oMTMW10QGEQ/gviz/tq?tqx=out:csv&sheet=Flight\")"
   ]
  },
  {
   "cell_type": "code",
   "execution_count": 83,
   "id": "38d6620e",
   "metadata": {},
   "outputs": [
    {
     "data": {
      "text/html": [
       "<div>\n",
       "<style scoped>\n",
       "    .dataframe tbody tr th:only-of-type {\n",
       "        vertical-align: middle;\n",
       "    }\n",
       "\n",
       "    .dataframe tbody tr th {\n",
       "        vertical-align: top;\n",
       "    }\n",
       "\n",
       "    .dataframe thead th {\n",
       "        text-align: right;\n",
       "    }\n",
       "</style>\n",
       "<table border=\"1\" class=\"dataframe\">\n",
       "  <thead>\n",
       "    <tr style=\"text-align: right;\">\n",
       "      <th></th>\n",
       "      <th>Person</th>\n",
       "      <th>Item_Identifier</th>\n",
       "      <th>Length</th>\n",
       "      <th>Breadth</th>\n",
       "      <th>PaperQuality</th>\n",
       "      <th>Angle</th>\n",
       "      <th>Foldings</th>\n",
       "      <th>Windspeed</th>\n",
       "      <th>Dominanthand</th>\n",
       "      <th>Distance</th>\n",
       "    </tr>\n",
       "  </thead>\n",
       "  <tbody>\n",
       "    <tr>\n",
       "      <th>0</th>\n",
       "      <td>Kevin</td>\n",
       "      <td>Som</td>\n",
       "      <td>29.0</td>\n",
       "      <td>20.0</td>\n",
       "      <td>A</td>\n",
       "      <td>U</td>\n",
       "      <td>8</td>\n",
       "      <td>On</td>\n",
       "      <td>L</td>\n",
       "      <td>5</td>\n",
       "    </tr>\n",
       "    <tr>\n",
       "      <th>1</th>\n",
       "      <td>Kevin</td>\n",
       "      <td>kevin</td>\n",
       "      <td>23.0</td>\n",
       "      <td>16.0</td>\n",
       "      <td>B</td>\n",
       "      <td>U</td>\n",
       "      <td>8</td>\n",
       "      <td>On</td>\n",
       "      <td>L</td>\n",
       "      <td>5</td>\n",
       "    </tr>\n",
       "    <tr>\n",
       "      <th>2</th>\n",
       "      <td>Kevin</td>\n",
       "      <td>RR</td>\n",
       "      <td>NaN</td>\n",
       "      <td>18.0</td>\n",
       "      <td>A</td>\n",
       "      <td>L</td>\n",
       "      <td>10</td>\n",
       "      <td>On</td>\n",
       "      <td>R</td>\n",
       "      <td>6</td>\n",
       "    </tr>\n",
       "    <tr>\n",
       "      <th>3</th>\n",
       "      <td>Priya</td>\n",
       "      <td>Nithya</td>\n",
       "      <td>27.0</td>\n",
       "      <td>20.0</td>\n",
       "      <td>A</td>\n",
       "      <td>U</td>\n",
       "      <td>10</td>\n",
       "      <td>On</td>\n",
       "      <td>R</td>\n",
       "      <td>4</td>\n",
       "    </tr>\n",
       "    <tr>\n",
       "      <th>4</th>\n",
       "      <td>Priya</td>\n",
       "      <td>Priya</td>\n",
       "      <td>29.5</td>\n",
       "      <td>17.5</td>\n",
       "      <td>B</td>\n",
       "      <td>U</td>\n",
       "      <td>5</td>\n",
       "      <td>Off</td>\n",
       "      <td>R</td>\n",
       "      <td>8</td>\n",
       "    </tr>\n",
       "  </tbody>\n",
       "</table>\n",
       "</div>"
      ],
      "text/plain": [
       "  Person Item_Identifier  Length  Breadth PaperQuality Angle  Foldings  \\\n",
       "0  Kevin             Som    29.0     20.0            A     U         8   \n",
       "1  Kevin           kevin    23.0     16.0            B     U         8   \n",
       "2  Kevin              RR     NaN     18.0            A     L        10   \n",
       "3  Priya          Nithya    27.0     20.0            A     U        10   \n",
       "4  Priya           Priya    29.5     17.5            B     U         5   \n",
       "\n",
       "  Windspeed  Dominanthand  Distance  \n",
       "0         On            L         5  \n",
       "1         On            L         5  \n",
       "2         On            R         6  \n",
       "3         On            R         4  \n",
       "4        Off            R         8  "
      ]
     },
     "execution_count": 83,
     "metadata": {},
     "output_type": "execute_result"
    }
   ],
   "source": [
    "data.head()"
   ]
  },
  {
   "cell_type": "code",
   "execution_count": 84,
   "id": "22b606fa",
   "metadata": {},
   "outputs": [
    {
     "data": {
      "text/plain": [
       "Person              0\n",
       "Item_Identifier     0\n",
       "Length             17\n",
       "Breadth             0\n",
       "PaperQuality        8\n",
       "Angle               4\n",
       "Foldings            0\n",
       "Windspeed           0\n",
       "Dominanthand        0\n",
       "Distance            0\n",
       "dtype: int64"
      ]
     },
     "execution_count": 84,
     "metadata": {},
     "output_type": "execute_result"
    }
   ],
   "source": [
    "data.isnull().sum()"
   ]
  },
  {
   "cell_type": "code",
   "execution_count": 85,
   "id": "3eefb14d",
   "metadata": {},
   "outputs": [
    {
     "data": {
      "text/plain": [
       "{'whiskers': [<matplotlib.lines.Line2D at 0x21ed27e3580>,\n",
       "  <matplotlib.lines.Line2D at 0x21ed27e3910>],\n",
       " 'caps': [<matplotlib.lines.Line2D at 0x21ed27e3ca0>,\n",
       "  <matplotlib.lines.Line2D at 0x21ed27ec070>],\n",
       " 'boxes': [<matplotlib.lines.Line2D at 0x21ed27e3220>],\n",
       " 'medians': [<matplotlib.lines.Line2D at 0x21ed27ec400>],\n",
       " 'fliers': [<matplotlib.lines.Line2D at 0x21ed27ec790>],\n",
       " 'means': []}"
      ]
     },
     "execution_count": 85,
     "metadata": {},
     "output_type": "execute_result"
    },
    {
     "data": {
      "image/png": "[encoded data removed]",
      "text/plain": [
       "<Figure size 432x288 with 1 Axes>"
      ]
     },
     "metadata": {
      "needs_background": "light"
     },
     "output_type": "display_data"
    }
   ],
   "source": [
    "plt.boxplot(data.Length.dropna())"
   ]
  },
  {
   "cell_type": "code",
   "execution_count": 86,
   "id": "a95975cf",
   "metadata": {},
   "outputs": [],
   "source": [
    "data.Length.fillna(data.Length.median(),inplace=True)"
   ]
  },
  {
   "cell_type": "code",
   "execution_count": 87,
   "id": "962ee032",
   "metadata": {},
   "outputs": [
    {
     "data": {
      "text/plain": [
       "29.5"
      ]
     },
     "execution_count": 87,
     "metadata": {},
     "output_type": "execute_result"
    }
   ],
   "source": [
    "q3 = data.Length.quantile(0.75)\n",
    "q3"
   ]
  },
  {
   "cell_type": "code",
   "execution_count": 88,
   "id": "f5acf9b3",
   "metadata": {},
   "outputs": [
    {
     "data": {
      "text/plain": [
       "24.5"
      ]
     },
     "execution_count": 88,
     "metadata": {},
     "output_type": "execute_result"
    }
   ],
   "source": [
    "q1 = data.Length.quantile(0.25)\n",
    "q1"
   ]
  },
  {
   "cell_type": "code",
   "execution_count": 89,
   "id": "cee7ade7",
   "metadata": {},
   "outputs": [
    {
     "data": {
      "text/plain": [
       "5.0"
      ]
     },
     "execution_count": 89,
     "metadata": {},
     "output_type": "execute_result"
    }
   ],
   "source": [
    "IQR = q3 - q1\n",
    "IQR"
   ]
  },
  {
   "cell_type": "code",
   "execution_count": 90,
   "id": "6ceaf12f",
   "metadata": {},
   "outputs": [
    {
     "data": {
      "text/plain": [
       "37.0"
      ]
     },
     "execution_count": 90,
     "metadata": {},
     "output_type": "execute_result"
    }
   ],
   "source": [
    "UE = q3 + (1.5 * IQR)\n",
    "UE"
   ]
  },
  {
   "cell_type": "code",
   "execution_count": 91,
   "id": "ee3df392",
   "metadata": {},
   "outputs": [
    {
     "data": {
      "text/plain": [
       "17.0"
      ]
     },
     "execution_count": 91,
     "metadata": {},
     "output_type": "execute_result"
    }
   ],
   "source": [
    "LE = q1 - (1.5 * IQR)\n",
    "LE"
   ]
  },
  {
   "cell_type": "code",
   "execution_count": 92,
   "id": "2a3349c1",
   "metadata": {},
   "outputs": [],
   "source": [
    "data1 = data[(data.Length <= UE) & (data.Length >= LE)]"
   ]
  },
  {
   "cell_type": "code",
   "execution_count": 93,
   "id": "445e2cb6",
   "metadata": {},
   "outputs": [
    {
     "data": {
      "text/plain": [
       "{'whiskers': [<matplotlib.lines.Line2D at 0x21ed2840c10>,\n",
       "  <matplotlib.lines.Line2D at 0x21ed2840fa0>],\n",
       " 'caps': [<matplotlib.lines.Line2D at 0x21ed284f370>,\n",
       "  <matplotlib.lines.Line2D at 0x21ed284f700>],\n",
       " 'boxes': [<matplotlib.lines.Line2D at 0x21ed2840910>],\n",
       " 'medians': [<matplotlib.lines.Line2D at 0x21ed284fa90>],\n",
       " 'fliers': [<matplotlib.lines.Line2D at 0x21ed284fe20>],\n",
       " 'means': []}"
      ]
     },
     "execution_count": 93,
     "metadata": {},
     "output_type": "execute_result"
    },
    {
     "data": {
      "image/png": "[encoded data removed]",
      "text/plain": [
       "<Figure size 432x288 with 1 Axes>"
      ]
     },
     "metadata": {
      "needs_background": "light"
     },
     "output_type": "display_data"
    }
   ],
   "source": [
    "plt.boxplot(data1.Length)"
   ]
  },
  {
   "cell_type": "code",
   "execution_count": 94,
   "id": "946e0fb0",
   "metadata": {},
   "outputs": [],
   "source": [
    "data.Angle.fillna(data.Angle.mode().max(),inplace=True)"
   ]
  },
  {
   "cell_type": "code",
   "execution_count": 95,
   "id": "92ae208a",
   "metadata": {},
   "outputs": [],
   "source": [
    "data.PaperQuality.fillna(\"others\",inplace=True)"
   ]
  },
  {
   "cell_type": "code",
   "execution_count": 96,
   "id": "fe7ab8ba",
   "metadata": {},
   "outputs": [],
   "source": [
    "y = data.Distance\n",
    "x = data.iloc[0:,[2,3,4,5,6,7,8]]"
   ]
  },
  {
   "cell_type": "code",
   "execution_count": 97,
   "id": "d022713f",
   "metadata": {},
   "outputs": [
    {
     "data": {
      "text/html": [
       "<div>\n",
       "<style scoped>\n",
       "    .dataframe tbody tr th:only-of-type {\n",
       "        vertical-align: middle;\n",
       "    }\n",
       "\n",
       "    .dataframe tbody tr th {\n",
       "        vertical-align: top;\n",
       "    }\n",
       "\n",
       "    .dataframe thead th {\n",
       "        text-align: right;\n",
       "    }\n",
       "</style>\n",
       "<table border=\"1\" class=\"dataframe\">\n",
       "  <thead>\n",
       "    <tr style=\"text-align: right;\">\n",
       "      <th></th>\n",
       "      <th>Length</th>\n",
       "      <th>Breadth</th>\n",
       "      <th>PaperQuality</th>\n",
       "      <th>Angle</th>\n",
       "      <th>Foldings</th>\n",
       "      <th>Windspeed</th>\n",
       "      <th>Dominanthand</th>\n",
       "    </tr>\n",
       "  </thead>\n",
       "  <tbody>\n",
       "    <tr>\n",
       "      <th>0</th>\n",
       "      <td>29.0</td>\n",
       "      <td>20.0</td>\n",
       "      <td>A</td>\n",
       "      <td>U</td>\n",
       "      <td>8</td>\n",
       "      <td>On</td>\n",
       "      <td>L</td>\n",
       "    </tr>\n",
       "    <tr>\n",
       "      <th>1</th>\n",
       "      <td>23.0</td>\n",
       "      <td>16.0</td>\n",
       "      <td>B</td>\n",
       "      <td>U</td>\n",
       "      <td>8</td>\n",
       "      <td>On</td>\n",
       "      <td>L</td>\n",
       "    </tr>\n",
       "    <tr>\n",
       "      <th>2</th>\n",
       "      <td>28.5</td>\n",
       "      <td>18.0</td>\n",
       "      <td>A</td>\n",
       "      <td>L</td>\n",
       "      <td>10</td>\n",
       "      <td>On</td>\n",
       "      <td>R</td>\n",
       "    </tr>\n",
       "    <tr>\n",
       "      <th>3</th>\n",
       "      <td>27.0</td>\n",
       "      <td>20.0</td>\n",
       "      <td>A</td>\n",
       "      <td>U</td>\n",
       "      <td>10</td>\n",
       "      <td>On</td>\n",
       "      <td>R</td>\n",
       "    </tr>\n",
       "    <tr>\n",
       "      <th>4</th>\n",
       "      <td>29.5</td>\n",
       "      <td>17.5</td>\n",
       "      <td>B</td>\n",
       "      <td>U</td>\n",
       "      <td>5</td>\n",
       "      <td>Off</td>\n",
       "      <td>R</td>\n",
       "    </tr>\n",
       "  </tbody>\n",
       "</table>\n",
       "</div>"
      ],
      "text/plain": [
       "   Length  Breadth PaperQuality Angle  Foldings Windspeed  Dominanthand\n",
       "0    29.0     20.0            A     U         8         On            L\n",
       "1    23.0     16.0            B     U         8         On            L\n",
       "2    28.5     18.0            A     L        10         On            R\n",
       "3    27.0     20.0            A     U        10         On            R\n",
       "4    29.5     17.5            B     U         5        Off            R"
      ]
     },
     "execution_count": 97,
     "metadata": {},
     "output_type": "execute_result"
    }
   ],
   "source": [
    "x.head()"
   ]
  },
  {
   "cell_type": "code",
   "execution_count": 98,
   "id": "f2a61832",
   "metadata": {},
   "outputs": [],
   "source": [
    "dummy = pd.get_dummies(x)"
   ]
  },
  {
   "cell_type": "code",
   "execution_count": 99,
   "id": "7086c7c3",
   "metadata": {},
   "outputs": [],
   "source": [
    "scaler = MinMaxScaler()"
   ]
  },
  {
   "cell_type": "code",
   "execution_count": 100,
   "id": "60bdc02d",
   "metadata": {},
   "outputs": [
    {
     "data": {
      "text/plain": [
       "MinMaxScaler()"
      ]
     },
     "execution_count": 100,
     "metadata": {},
     "output_type": "execute_result"
    }
   ],
   "source": [
    "scaler.fit(dummy)"
   ]
  },
  {
   "cell_type": "code",
   "execution_count": 101,
   "id": "8b764247",
   "metadata": {},
   "outputs": [],
   "source": [
    "d = scaler.transform(dummy)"
   ]
  },
  {
   "cell_type": "code",
   "execution_count": 102,
   "id": "c4249f4a",
   "metadata": {},
   "outputs": [],
   "source": [
    "df = pd.DataFrame(d)"
   ]
  },
  {
   "cell_type": "code",
   "execution_count": 103,
   "id": "a0c35dd5",
   "metadata": {},
   "outputs": [],
   "source": [
    "trainx,testx = train_test_split(df,test_size = 0.2)\n",
    "trainy,testy = train_test_split(y,test_size = 0.2)"
   ]
  },
  {
   "cell_type": "markdown",
   "id": "21173dca",
   "metadata": {},
   "source": [
    "<h1 style = \"color:green\";>Random Forest Regression</h1>"
   ]
  },
  {
   "cell_type": "code",
   "execution_count": 104,
   "id": "7f792ea3",
   "metadata": {},
   "outputs": [],
   "source": [
    "RF = RandomForestRegressor(max_depth=2, random_state=0)"
   ]
  },
  {
   "cell_type": "code",
   "execution_count": 105,
   "id": "6ed4bbad",
   "metadata": {},
   "outputs": [
    {
     "data": {
      "text/plain": [
       "RandomForestRegressor(max_depth=2, random_state=0)"
      ]
     },
     "execution_count": 105,
     "metadata": {},
     "output_type": "execute_result"
    }
   ],
   "source": [
    "RF.fit(trainx,trainy)"
   ]
  },
  {
   "cell_type": "code",
   "execution_count": 106,
   "id": "58395225",
   "metadata": {},
   "outputs": [
    {
     "data": {
      "text/plain": [
       "array([6.53169763, 6.38181542, 6.77738363, 5.68462504, 5.21874361,\n",
       "       6.53169763, 5.68462504, 5.9982725 , 6.37776364, 5.80913824,\n",
       "       5.93544701, 6.16483665, 6.53169763, 5.30486856, 6.79969506,\n",
       "       6.16483665, 5.99037322, 5.93544701])"
      ]
     },
     "execution_count": 106,
     "metadata": {},
     "output_type": "execute_result"
    }
   ],
   "source": [
    "RF.predict(testx)"
   ]
  },
  {
   "cell_type": "code",
   "execution_count": 107,
   "id": "f9cd639e",
   "metadata": {},
   "outputs": [
    {
     "data": {
      "text/plain": [
       "-0.08476551226026863"
      ]
     },
     "execution_count": 107,
     "metadata": {},
     "output_type": "execute_result"
    }
   ],
   "source": [
    "RF.score(testx,testy)"
   ]
  },
  {
   "cell_type": "markdown",
   "id": "fe5e968d",
   "metadata": {},
   "source": [
    "<h1 style = \"color:red\";> Gradient Boosting</h1>"
   ]
  },
  {
   "cell_type": "code",
   "execution_count": 108,
   "id": "970cdb3b",
   "metadata": {},
   "outputs": [],
   "source": [
    "GB = GradientBoostingRegressor(random_state=0)"
   ]
  },
  {
   "cell_type": "code",
   "execution_count": 109,
   "id": "9d84d95e",
   "metadata": {},
   "outputs": [
    {
     "data": {
      "text/plain": [
       "GradientBoostingRegressor(random_state=0)"
      ]
     },
     "execution_count": 109,
     "metadata": {},
     "output_type": "execute_result"
    }
   ],
   "source": [
    "GB.fit(trainx,trainy)"
   ]
  },
  {
   "cell_type": "code",
   "execution_count": 110,
   "id": "58668c5f",
   "metadata": {},
   "outputs": [
    {
     "data": {
      "text/plain": [
       "array([5.03582194, 5.46049909, 6.9612601 , 4.00648994, 5.62374095,\n",
       "       4.82221333, 6.44783673, 5.13875783, 4.82221333, 7.2973027 ,\n",
       "       5.8605353 , 8.26435975, 6.9612601 , 4.05501994, 5.40844034,\n",
       "       4.05501994, 5.40844034, 7.2973027 , 5.38973431, 4.08614748,\n",
       "       3.02627162, 5.03582194, 6.18605144, 7.71412738, 6.9612601 ,\n",
       "       6.9612601 , 6.2531955 , 6.59313472, 8.12259794, 6.2531955 ,\n",
       "       7.33341251, 5.22157164, 5.88691599, 6.9612601 , 5.03582194,\n",
       "       6.18605144, 5.89763289, 7.71412738, 6.44783673, 7.12340898,\n",
       "       5.8605353 , 6.59313472, 7.2973027 , 7.33341251, 6.62809749,\n",
       "       6.9612601 , 6.18605144, 5.40844034, 5.40844034, 5.46049909,\n",
       "       4.82221333, 5.78520517, 6.59313472, 6.9612601 , 8.26435975,\n",
       "       4.59312035, 4.59312035, 6.44783673, 7.71412738, 6.2531955 ,\n",
       "       5.03582194, 9.69607548, 7.2973027 , 6.76120203, 5.80823355,\n",
       "       5.62374095, 6.2531955 , 6.44783673, 6.18605144, 5.40844034])"
      ]
     },
     "execution_count": 110,
     "metadata": {},
     "output_type": "execute_result"
    }
   ],
   "source": [
    "GB.predict(trainx)"
   ]
  },
  {
   "cell_type": "code",
   "execution_count": 111,
   "id": "79d418ed",
   "metadata": {},
   "outputs": [
    {
     "data": {
      "text/plain": [
       "-0.296739563782376"
      ]
     },
     "execution_count": 111,
     "metadata": {},
     "output_type": "execute_result"
    }
   ],
   "source": [
    "GB.score(testx,testy)"
   ]
  },
  {
   "cell_type": "markdown",
   "id": "b7f1a77a",
   "metadata": {},
   "source": [
    "<h1 style = \"color:yellow\";>Adab Boosting</h1>"
   ]
  },
  {
   "cell_type": "code",
   "execution_count": 112,
   "id": "86213d47",
   "metadata": {},
   "outputs": [],
   "source": [
    "AB = GradientBoostingRegressor(random_state=0)"
   ]
  },
  {
   "cell_type": "code",
   "execution_count": 113,
   "id": "f3afa0c3",
   "metadata": {},
   "outputs": [
    {
     "data": {
      "text/plain": [
       "GradientBoostingRegressor(random_state=0)"
      ]
     },
     "execution_count": 113,
     "metadata": {},
     "output_type": "execute_result"
    }
   ],
   "source": [
    "AB.fit(trainx,trainy)"
   ]
  },
  {
   "cell_type": "code",
   "execution_count": 114,
   "id": "94e1920c",
   "metadata": {},
   "outputs": [
    {
     "data": {
      "text/plain": [
       "array([5.38973431, 6.59313472, 7.71412738, 5.46049909, 4.82221333,\n",
       "       5.38973431, 5.46049909, 6.2531955 , 6.9612601 , 5.39955715,\n",
       "       6.18605144, 5.89763289, 5.38973431, 3.74078231, 8.26435975,\n",
       "       5.89763289, 4.59312035, 6.18605144])"
      ]
     },
     "execution_count": 114,
     "metadata": {},
     "output_type": "execute_result"
    }
   ],
   "source": [
    "AB.predict(testx)"
   ]
  },
  {
   "cell_type": "code",
   "execution_count": 115,
   "id": "171d156f",
   "metadata": {},
   "outputs": [
    {
     "data": {
      "text/plain": [
       "-0.296739563782376"
      ]
     },
     "execution_count": 115,
     "metadata": {},
     "output_type": "execute_result"
    }
   ],
   "source": [
    "AB.score(testx,testy)"
   ]
  },
  {
   "cell_type": "markdown",
   "id": "685df866",
   "metadata": {},
   "source": [
    "<h1 style = \"color:grey\";>Decision Tree</h1>"
   ]
  },
  {
   "cell_type": "code",
   "execution_count": 116,
   "id": "7544c37e",
   "metadata": {},
   "outputs": [],
   "source": [
    "DT = DecisionTreeRegressor(random_state=0)"
   ]
  },
  {
   "cell_type": "code",
   "execution_count": 117,
   "id": "48d0bb41",
   "metadata": {},
   "outputs": [
    {
     "data": {
      "text/plain": [
       "DecisionTreeRegressor(random_state=0)"
      ]
     },
     "execution_count": 117,
     "metadata": {},
     "output_type": "execute_result"
    }
   ],
   "source": [
    "DT.fit(trainx,trainy)"
   ]
  },
  {
   "cell_type": "code",
   "execution_count": 118,
   "id": "64c8a068",
   "metadata": {},
   "outputs": [
    {
     "data": {
      "text/plain": [
       "array([5.        , 6.66666667, 8.        , 5.5       , 5.        ,\n",
       "       5.        , 5.5       , 6.        , 7.        , 3.        ,\n",
       "       6.5       , 6.        , 5.        , 3.        , 8.5       ,\n",
       "       6.        , 4.        , 6.5       ])"
      ]
     },
     "execution_count": 118,
     "metadata": {},
     "output_type": "execute_result"
    }
   ],
   "source": [
    "DT.predict(testx)"
   ]
  },
  {
   "cell_type": "code",
   "execution_count": 119,
   "id": "a4460fc3",
   "metadata": {},
   "outputs": [
    {
     "data": {
      "text/plain": [
       "-0.49236641221374056"
      ]
     },
     "execution_count": 119,
     "metadata": {},
     "output_type": "execute_result"
    }
   ],
   "source": [
    "DT.score(testx,testy)"
   ]
  },
  {
   "cell_type": "markdown",
   "id": "4066cb0d",
   "metadata": {},
   "source": [
    "<h1 style = \"color:blue\";>Linear Regression</h1>"
   ]
  },
  {
   "cell_type": "code",
   "execution_count": 120,
   "id": "3c9b265a",
   "metadata": {},
   "outputs": [],
   "source": [
    " LR = LinearRegression()"
   ]
  },
  {
   "cell_type": "code",
   "execution_count": 121,
   "id": "37bb9872",
   "metadata": {},
   "outputs": [
    {
     "data": {
      "text/plain": [
       "LinearRegression()"
      ]
     },
     "execution_count": 121,
     "metadata": {},
     "output_type": "execute_result"
    }
   ],
   "source": [
    "LR.fit(trainx,trainy)"
   ]
  },
  {
   "cell_type": "code",
   "execution_count": 122,
   "id": "0992a9d3",
   "metadata": {},
   "outputs": [
    {
     "data": {
      "text/plain": [
       "array([7.06376195, 6.01504645, 7.00509136, 6.07546379, 5.66923262,\n",
       "       7.06376195, 6.07546379, 5.98807748, 5.75667758, 6.48962729,\n",
       "       5.67290892, 6.11968226, 7.06376195, 5.18293919, 7.07610835,\n",
       "       6.11968226, 6.09578859, 5.67290892])"
      ]
     },
     "execution_count": 122,
     "metadata": {},
     "output_type": "execute_result"
    }
   ],
   "source": [
    "LR.predict(testx)"
   ]
  },
  {
   "cell_type": "code",
   "execution_count": 123,
   "id": "230825c2",
   "metadata": {},
   "outputs": [
    {
     "data": {
      "text/plain": [
       "-0.08673060682265121"
      ]
     },
     "execution_count": 123,
     "metadata": {},
     "output_type": "execute_result"
    }
   ],
   "source": [
    "LR.score(testx,testy)"
   ]
  },
  {
   "cell_type": "code",
   "execution_count": 124,
   "id": "741b6a1d",
   "metadata": {},
   "outputs": [],
   "source": [
    "Canfly = data.Distance"
   ]
  },
  {
   "cell_type": "code",
   "execution_count": 125,
   "id": "37a05592",
   "metadata": {},
   "outputs": [],
   "source": [
    "data['Canfly'] = Canfly"
   ]
  },
  {
   "cell_type": "code",
   "execution_count": 139,
   "id": "fdda34ce",
   "metadata": {},
   "outputs": [
    {
     "ename": "ValueError",
     "evalue": "Series.replace cannot use dict-like to_replace and non-None value",
     "output_type": "error",
     "traceback": [
      "\u001b[1;31m---------------------------------------------------------------------------\u001b[0m",
      "\u001b[1;31mValueError\u001b[0m                                Traceback (most recent call last)",
      "\u001b[1;32mC:\\Users\\VICKYR~1\\AppData\\Local\\Temp/ipykernel_584/2830757390.py\u001b[0m in \u001b[0;36m<module>\u001b[1;34m\u001b[0m\n\u001b[1;32m----> 1\u001b[1;33m \u001b[0mdata\u001b[0m\u001b[1;33m.\u001b[0m\u001b[0mCanfly\u001b[0m \u001b[1;33m=\u001b[0m \u001b[0mdata\u001b[0m\u001b[1;33m.\u001b[0m\u001b[0mCanfly\u001b[0m\u001b[1;33m.\u001b[0m\u001b[0mreplace\u001b[0m\u001b[1;33m(\u001b[0m\u001b[0mto_replace\u001b[0m \u001b[1;33m=\u001b[0m \u001b[0mdata\u001b[0m\u001b[1;33m[\u001b[0m\u001b[0mdata\u001b[0m\u001b[1;33m.\u001b[0m\u001b[0mCanfly\u001b[0m\u001b[1;33m>=\u001b[0m\u001b[1;36m5\u001b[0m\u001b[1;33m]\u001b[0m\u001b[1;33m,\u001b[0m\u001b[0mvalue\u001b[0m\u001b[1;33m=\u001b[0m\u001b[1;34m\"Yes\"\u001b[0m\u001b[1;33m)\u001b[0m\u001b[1;33m\u001b[0m\u001b[1;33m\u001b[0m\u001b[0m\n\u001b[0m",
      "\u001b[1;32m~\\anaconda3\\lib\\site-packages\\pandas\\core\\series.py\u001b[0m in \u001b[0;36mreplace\u001b[1;34m(self, to_replace, value, inplace, limit, regex, method)\u001b[0m\n\u001b[0;32m   4866\u001b[0m         \u001b[0mmethod\u001b[0m\u001b[1;33m=\u001b[0m\u001b[1;34m\"pad\"\u001b[0m\u001b[1;33m,\u001b[0m\u001b[1;33m\u001b[0m\u001b[1;33m\u001b[0m\u001b[0m\n\u001b[0;32m   4867\u001b[0m     ):\n\u001b[1;32m-> 4868\u001b[1;33m         return super().replace(\n\u001b[0m\u001b[0;32m   4869\u001b[0m             \u001b[0mto_replace\u001b[0m\u001b[1;33m=\u001b[0m\u001b[0mto_replace\u001b[0m\u001b[1;33m,\u001b[0m\u001b[1;33m\u001b[0m\u001b[1;33m\u001b[0m\u001b[0m\n\u001b[0;32m   4870\u001b[0m             \u001b[0mvalue\u001b[0m\u001b[1;33m=\u001b[0m\u001b[0mvalue\u001b[0m\u001b[1;33m,\u001b[0m\u001b[1;33m\u001b[0m\u001b[1;33m\u001b[0m\u001b[0m\n",
      "\u001b[1;32m~\\anaconda3\\lib\\site-packages\\pandas\\core\\generic.py\u001b[0m in \u001b[0;36mreplace\u001b[1;34m(self, to_replace, value, inplace, limit, regex, method)\u001b[0m\n\u001b[0;32m   6549\u001b[0m                     \u001b[1;31m# Operate column-wise\u001b[0m\u001b[1;33m\u001b[0m\u001b[1;33m\u001b[0m\u001b[0m\n\u001b[0;32m   6550\u001b[0m                     \u001b[1;32mif\u001b[0m \u001b[0mself\u001b[0m\u001b[1;33m.\u001b[0m\u001b[0mndim\u001b[0m \u001b[1;33m==\u001b[0m \u001b[1;36m1\u001b[0m\u001b[1;33m:\u001b[0m\u001b[1;33m\u001b[0m\u001b[1;33m\u001b[0m\u001b[0m\n\u001b[1;32m-> 6551\u001b[1;33m                         raise ValueError(\n\u001b[0m\u001b[0;32m   6552\u001b[0m                             \u001b[1;34m\"Series.replace cannot use dict-like to_replace \"\u001b[0m\u001b[1;33m\u001b[0m\u001b[1;33m\u001b[0m\u001b[0m\n\u001b[0;32m   6553\u001b[0m                             \u001b[1;34m\"and non-None value\"\u001b[0m\u001b[1;33m\u001b[0m\u001b[1;33m\u001b[0m\u001b[0m\n",
      "\u001b[1;31mValueError\u001b[0m: Series.replace cannot use dict-like to_replace and non-None value"
     ]
    }
   ],
   "source": [
    "fdxdata.Canfly = data.Canfly.replace(to_replace = data[data.Canfly>=5],value=\"Yes\")"
   ]
  },
  {
   "cell_type": "code",
   "execution_count": 137,
   "id": "9d03c07b",
   "metadata": {},
   "outputs": [
    {
     "data": {
      "text/plain": [
       "Person             0\n",
       "Item_Identifier    0\n",
       "Length             0\n",
       "Breadth            0\n",
       "PaperQuality       0\n",
       "Angle              0\n",
       "Foldings           0\n",
       "Windspeed          0\n",
       "Dominanthand       0\n",
       "Distance           0\n",
       "Canfly             0\n",
       "dtype: int64"
      ]
     },
     "execution_count": 137,
     "metadata": {},
     "output_type": "execute_result"
    }
   ],
   "source": [
    "data.isnull().sum()"
   ]
  },
  {
   "cell_type": "markdown",
   "id": "16ad307e",
   "metadata": {},
   "source": [
    "<h1>DecisionTree Classifier</h1>"
   ]
  },
  {
   "cell_type": "code",
   "execution_count": 48,
   "id": "f4f5a2ce",
   "metadata": {},
   "outputs": [],
   "source": [
    "CT = DecisionTreeClassifier(random_state=0).fit(trainx,trainy)"
   ]
  },
  {
   "cell_type": "code",
   "execution_count": 49,
   "id": "c13f294b",
   "metadata": {},
   "outputs": [
    {
     "data": {
      "text/plain": [
       "0.1111111111111111"
      ]
     },
     "execution_count": 49,
     "metadata": {},
     "output_type": "execute_result"
    }
   ],
   "source": [
    "CT.score(testx,testy)"
   ]
  },
  {
   "cell_type": "code",
   "execution_count": 50,
   "id": "6a9bc461",
   "metadata": {},
   "outputs": [
    {
     "data": {
      "text/plain": [
       "array([7, 6, 4, 4, 5, 4, 4, 5, 7, 6, 7, 1, 4, 5, 6, 4, 8, 6], dtype=int64)"
      ]
     },
     "execution_count": 50,
     "metadata": {},
     "output_type": "execute_result"
    }
   ],
   "source": [
    "CT.predict(testx)"
   ]
  },
  {
   "cell_type": "code",
   "execution_count": 138,
   "id": "25ba1bc9",
   "metadata": {},
   "outputs": [
    {
     "data": {
      "text/plain": [
       "0     5\n",
       "1     5\n",
       "2     6\n",
       "3     4\n",
       "4     8\n",
       "     ..\n",
       "83    7\n",
       "84    5\n",
       "85    4\n",
       "86    5\n",
       "87    7\n",
       "Name: Canfly, Length: 88, dtype: int64"
      ]
     },
     "execution_count": 138,
     "metadata": {},
     "output_type": "execute_result"
    }
   ],
   "source": [
    "data.Canfly"
   ]
  },
  {
   "cell_type": "code",
   "execution_count": null,
   "id": "e1f00c1d",
   "metadata": {},
   "outputs": [],
   "source": []
  },
  {
   "cell_type": "code",
   "execution_count": null,
   "id": "bd6dd2aa",
   "metadata": {},
   "outputs": [],
   "source": []
  },
  {
   "cell_type": "code",
   "execution_count": null,
   "id": "e218ab7e",
   "metadata": {},
   "outputs": [],
   "source": []
  },
  {
   "cell_type": "code",
   "execution_count": null,
   "id": "d24bbecb",
   "metadata": {},
   "outputs": [],
   "source": []
  },
  {
   "cell_type": "code",
   "execution_count": null,
   "id": "f72a8fed",
   "metadata": {},
   "outputs": [],
   "source": []
  }
 ],
 "metadata": {
  "kernelspec": {
   "display_name": "Python 3 (ipykernel)",
   "language": "python",
   "name": "python3"
  },
  "language_info": {
   "codemirror_mode": {
    "name": "ipython",
    "version": 3
   },
   "file_extension": ".py",
   "mimetype": "text/x-python",
   "name": "python",
   "nbconvert_exporter": "python",
   "pygments_lexer": "ipython3",
   "version": "3.9.7"
  }
 },
 "nbformat": 4,
 "nbformat_minor": 5
}
